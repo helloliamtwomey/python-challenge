{
 "cells": [
  {
   "cell_type": "code",
   "execution_count": 1,
   "id": "4d512161",
   "metadata": {},
   "outputs": [],
   "source": [
    "import os\n",
    "import csv"
   ]
  },
  {
   "cell_type": "code",
   "execution_count": 2,
   "id": "3c657719",
   "metadata": {},
   "outputs": [],
   "source": [
    "# path to the election data\n",
    "election_csv = os.path.join('Resources', 'election_data.csv')\n",
    "\n",
    "# create dictionaries and lists to store the data\n",
    "election_data = []\n",
    "data_dict = {}\n",
    "output_results = {}"
   ]
  },
  {
   "cell_type": "code",
   "execution_count": 3,
   "id": "ad754a79",
   "metadata": {},
   "outputs": [],
   "source": [
    "# calculate the number of votes received by each candidate.\n",
    "def calc_percentage(election_data):\n",
    "    for row in election_data:\n",
    "        candidate = row[2]\n",
    "        if candidate in data_dict:\n",
    "            data_dict[candidate] += 1\n",
    "        else:\n",
    "            data_dict[candidate] = 1"
   ]
  },
  {
   "cell_type": "code",
   "execution_count": 4,
   "id": "7722eb08",
   "metadata": {},
   "outputs": [],
   "source": [
    "# calculate the winner of the election based on popular vote.\n",
    "def winner(data_dict):\n",
    "    return max(data_dict, key=data_dict.get)"
   ]
  },
  {
   "cell_type": "code",
   "execution_count": 5,
   "id": "aee85dde",
   "metadata": {},
   "outputs": [],
   "source": [
    "# create a list of strings containing the election results\n",
    "def results_func(data_dict, output_results, winner):\n",
    "    results = []\n",
    "    total_votes = sum(data_dict.values())\n",
    "    results.append(\"Election Results\")\n",
    "    results.append(\"-------------------------\")\n",
    "    results.append(f\"Total Votes: {total_votes}\")\n",
    "    results.append(\"-------------------------\")\n",
    "    for candidate, votes in data_dict.items():\n",
    "        percentage = round(votes / total_votes * 100, 3)\n",
    "        output_results[candidate] = f\"{percentage:.3f}% ({votes})\"\n",
    "        results.append(f\"{candidate}: {output_results[candidate]}\")\n",
    "    results.append(\"-------------------------\")\n",
    "    results.append(f\"Winner: {winner}\")\n",
    "    results.append(\"-------------------------\")\n",
    "    return results"
   ]
  },
  {
   "cell_type": "code",
   "execution_count": 6,
   "id": "b56f9626",
   "metadata": {},
   "outputs": [],
   "source": [
    "# read the CSV file and store the data in the election_data list\n",
    "with open(election_csv, newline='') as csvfile:\n",
    "    csvreader = csv.reader(csvfile, delimiter=',')\n",
    "    csv_header = next(csvreader)\n",
    "    for row in csvreader:\n",
    "        election_data.append(row)"
   ]
  },
  {
   "cell_type": "code",
   "execution_count": 7,
   "id": "81bfc497",
   "metadata": {},
   "outputs": [],
   "source": [
    "# calculate the election results\n",
    "calc_percentage(election_data)\n",
    "win = winner(data_dict)\n",
    "results = results_func(data_dict, output_results, win)"
   ]
  },
  {
   "cell_type": "code",
   "execution_count": 8,
   "id": "52a75a5b",
   "metadata": {},
   "outputs": [
    {
     "name": "stdout",
     "output_type": "stream",
     "text": [
      "Election Results\n",
      "-------------------------\n",
      "Total Votes: 369711\n",
      "-------------------------\n",
      "Charles Casper Stockham: 23.049% (85213)\n",
      "Diana DeGette: 73.812% (272892)\n",
      "Raymon Anthony Doane: 3.139% (11606)\n",
      "-------------------------\n",
      "Winner: Diana DeGette\n",
      "-------------------------\n"
     ]
    }
   ],
   "source": [
    "# print the results\n",
    "for result in results:\n",
    "    print(result)"
   ]
  },
  {
   "cell_type": "code",
   "execution_count": 9,
   "id": "6ef49e99",
   "metadata": {},
   "outputs": [],
   "source": [
    "# Export the results to a text file\n",
    "with open(\"analysis/election_results.txt\", \"w\") as file:\n",
    "    for result in results:\n",
    "        file.write(result + \"\\n\")"
   ]
  }
 ],
 "metadata": {
  "kernelspec": {
   "display_name": "PythonData",
   "language": "python",
   "name": "python3"
  },
  "language_info": {
   "codemirror_mode": {
    "name": "ipython",
    "version": 3
   },
   "file_extension": ".py",
   "mimetype": "text/x-python",
   "name": "python",
   "nbconvert_exporter": "python",
   "pygments_lexer": "ipython3",
   "version": "3.7.7 (default, May  6 2020, 04:59:01) \n[Clang 4.0.1 (tags/RELEASE_401/final)]"
  },
  "vscode": {
   "interpreter": {
    "hash": "b6cce24653f235c72fc4508a182a4aa78cc63d76feb097baa8f9f50675ccaa3a"
   }
  }
 },
 "nbformat": 4,
 "nbformat_minor": 5
}
