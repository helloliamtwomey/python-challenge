{
 "cells": [
  {
   "cell_type": "code",
   "execution_count": 38,
   "id": "4d512161",
   "metadata": {},
   "outputs": [],
   "source": [
    "import os\n",
    "import csv"
   ]
  },
  {
   "cell_type": "code",
   "execution_count": 39,
   "id": "3c657719",
   "metadata": {},
   "outputs": [],
   "source": [
    "# Path to the CSV file\n",
    "election_csv = os.path.join('Resources', 'election_data.csv')\n",
    "\n",
    "# List to store the election data\n",
    "election_data = []\n",
    "\n",
    "# Dictionary to store the number of votes received by each candidate\n",
    "data_dict = {}\n",
    "\n",
    "# Dictionary to store the percentage of votes received by each candidate\n",
    "output_results = {}"
   ]
  },
  {
   "cell_type": "code",
   "execution_count": 40,
   "id": "ad754a79",
   "metadata": {},
   "outputs": [],
   "source": [
    "def calc_percentage(election_data):\n",
    "    \"\"\"\n",
    "    Calculate the number of votes received by each candidate.\n",
    "    \"\"\"\n",
    "    for row in election_data:\n",
    "        candidate = row[2]\n",
    "        if candidate in data_dict:\n",
    "            data_dict[candidate] += 1\n",
    "        else:\n",
    "            data_dict[candidate] = 1"
   ]
  },
  {
   "cell_type": "code",
   "execution_count": 41,
   "id": "7722eb08",
   "metadata": {},
   "outputs": [],
   "source": [
    "def winner(data_dict):\n",
    "    \"\"\"\n",
    "    Determine the winner of the election based on popular vote.\n",
    "    \"\"\"\n",
    "    return max(data_dict, key=data_dict.get)"
   ]
  },
  {
   "cell_type": "code",
   "execution_count": 42,
   "id": "aee85dde",
   "metadata": {},
   "outputs": [],
   "source": [
    "def results_func(data_dict, output_results, winner):\n",
    "    \"\"\"\n",
    "    Generate a list of strings containing the election results in the required format.\n",
    "    \"\"\"\n",
    "    results = []\n",
    "    total_votes = sum(data_dict.values())\n",
    "    results.append(\"Election Results\")\n",
    "    results.append(\"-------------------------\")\n",
    "    results.append(f\"Total Votes: {total_votes}\")\n",
    "    results.append(\"-------------------------\")\n",
    "    for candidate, votes in data_dict.items():\n",
    "        percentage = round(votes / total_votes * 100, 3)\n",
    "        output_results[candidate] = f\"{percentage:.3f}% ({votes})\"\n",
    "        results.append(f\"{candidate}: {output_results[candidate]}\")\n",
    "    results.append(\"-------------------------\")\n",
    "    results.append(f\"Winner: {winner}\")\n",
    "    results.append(\"-------------------------\")\n",
    "    return results"
   ]
  },
  {
   "cell_type": "code",
   "execution_count": 43,
   "id": "b56f9626",
   "metadata": {},
   "outputs": [],
   "source": [
    "# Read the CSV file and store the data in the election_data list\n",
    "with open(election_csv, newline='') as csvfile:\n",
    "    csvreader = csv.reader(csvfile, delimiter=',')\n",
    "    csv_header = next(csvreader)\n",
    "    for row in csvreader:\n",
    "        election_data.append(row)"
   ]
  },
  {
   "cell_type": "code",
   "execution_count": 44,
   "id": "81bfc497",
   "metadata": {},
   "outputs": [],
   "source": [
    "# Calculate the election results\n",
    "calc_percentage(election_data)\n",
    "win = winner(data_dict)\n",
    "results = results_func(data_dict, output_results, win)"
   ]
  },
  {
   "cell_type": "code",
   "execution_count": 45,
   "id": "52a75a5b",
   "metadata": {},
   "outputs": [
    {
     "name": "stdout",
     "output_type": "stream",
     "text": [
      "Election Results\n",
      "-------------------------\n",
      "Total Votes: 369711\n",
      "-------------------------\n",
      "Charles Casper Stockham: 23.049% (85213)\n",
      "Diana DeGette: 73.812% (272892)\n",
      "Raymon Anthony Doane: 3.139% (11606)\n",
      "-------------------------\n",
      "Winner: Diana DeGette\n",
      "-------------------------\n"
     ]
    }
   ],
   "source": [
    "# Print the results to the console\n",
    "for result in results:\n",
    "    print(result)"
   ]
  },
  {
   "cell_type": "code",
   "execution_count": 46,
   "id": "6ef49e99",
   "metadata": {},
   "outputs": [],
   "source": [
    "# Export the results to a text file\n",
    "with open(\"analysis/election_results.txt\", \"w\") as file:\n",
    "    for result in results:\n",
    "        file.write(result + \"\\n\")"
   ]
  },
  {
   "cell_type": "code",
   "execution_count": null,
   "id": "2ba80cd2",
   "metadata": {},
   "outputs": [],
   "source": []
  }
 ],
 "metadata": {
  "kernelspec": {
   "display_name": "Python [conda env:PythonData] *",
   "language": "python",
   "name": "conda-env-PythonData-py"
  },
  "language_info": {
   "codemirror_mode": {
    "name": "ipython",
    "version": 3
   },
   "file_extension": ".py",
   "mimetype": "text/x-python",
   "name": "python",
   "nbconvert_exporter": "python",
   "pygments_lexer": "ipython3",
   "version": "3.7.7"
  }
 },
 "nbformat": 4,
 "nbformat_minor": 5
}
