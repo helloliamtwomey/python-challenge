{
 "cells": [
  {
   "cell_type": "code",
   "execution_count": 37,
   "id": "a9370e7a",
   "metadata": {},
   "outputs": [],
   "source": [
    "import os\n",
    "import csv"
   ]
  },
  {
   "cell_type": "code",
   "execution_count": 38,
   "id": "82447508",
   "metadata": {},
   "outputs": [],
   "source": [
    "# path to the budget data\n",
    "Budget_csv = os.path.join('Resources', 'budget_data.csv')"
   ]
  },
  {
   "cell_type": "code",
   "execution_count": 39,
   "id": "870a51ae",
   "metadata": {},
   "outputs": [],
   "source": [
    "# create dictionaries and lists to store the data\n",
    "budget_dict = {}\n",
    "delta_pnl = {}\n",
    "results = []"
   ]
  },
  {
   "cell_type": "code",
   "execution_count": 40,
   "id": "3f238922",
   "metadata": {},
   "outputs": [],
   "source": [
    "# calculate the total P&L\n",
    "def sum_pnl_func(budget_dict):\n",
    "    sumpnl = 0\n",
    "    # iterate through the budget dictionary and sum the P&L values\n",
    "    for key, value in budget_dict.items():\n",
    "        sumpnl += float(value)\n",
    "    return sumpnl"
   ]
  },
  {
   "cell_type": "code",
   "execution_count": 41,
   "id": "229800cb",
   "metadata": {},
   "outputs": [],
   "source": [
    "# calculate the average change in P&L\n",
    "def delta_pnl_func(budget_dict, totMonths):\n",
    "    start = 1\n",
    "    total = 0\n",
    "    delta = 0\n",
    "    # iterate through the budget dictionary and calculate the change in P&L\n",
    "    for key, value in budget_dict.items():\n",
    "        PNL = float(value)\n",
    "        if start == 1:\n",
    "            # add the initial value to the delta_pnl dictionary with a value of 0 \n",
    "            delta_pnl[key] = delta\n",
    "            start = 0            \n",
    "        else:\n",
    "            # calculate the change in P&L by subtracting the last month's P&L\n",
    "            delta = (PNL - Last_PNL)\n",
    "            delta_pnl[key] = delta\n",
    "        Last_PNL = PNL\n",
    "    # add up the changes in P&L\n",
    "    for key, value in delta_pnl.items():\n",
    "        total = total + int(value)\n",
    "    # calculate the average change in P&L\n",
    "    average = round(total/(totMonths-1),2)\n",
    "    return average"
   ]
  },
  {
   "cell_type": "code",
   "execution_count": 42,
   "id": "0efa22e1",
   "metadata": {},
   "outputs": [],
   "source": [
    "# find the month with the greatest increase in profits\n",
    "def max_profit(delta_pnl):\n",
    "    maxprofit = 0\n",
    "    # iterate through the delta_pnl dictionary and find the month with the greatest increase\n",
    "    for key, value in delta_pnl.items():\n",
    "        if int(value) > maxprofit:\n",
    "            maxprofit = int(value)\n",
    "            maxmonth = key\n",
    "    return maxmonth, maxprofit"
   ]
  },
  {
   "cell_type": "code",
   "execution_count": 43,
   "id": "42adba81",
   "metadata": {},
   "outputs": [],
   "source": [
    "# find the month with the greatest decrease in profits\n",
    "def min_profit(delta_pnl):\n",
    "    minprofit = 0\n",
    "    # iterate through the delta_pnl dictionary and find the month with the greatest decrease\n",
    "    for key, value in delta_pnl.items():\n",
    "        if int(value) < minprofit:\n",
    "            minprofit = int(float(value))\n",
    "            minmonth = key\n",
    "    return minmonth, minprofit"
   ]
  },
  {
   "cell_type": "code",
   "execution_count": 44,
   "id": "aec31465",
   "metadata": {},
   "outputs": [],
   "source": [
    "# print the results\n",
    "def output(totMonths, sumpnl, average, max, min):\n",
    "    results.append(\"Financial Analysis\")\n",
    "    results.append(\"----------------------------\")\n",
    "    results.append(f\"Total Months: {str(totMonths)}\")\n",
    "    results.append(f\"Total: ${str(sumpnl)}\")\n",
    "    results.append(f\"Average Change: ${str(average)}\")\n",
    "    results.append(f\"Greatest Increase in Profits: {str(max[0])} (${str(max[1])})\")\n",
    "    results.append(f\"Greatest Decrease in Profits: {str(min[0])} (${str(min[1])})\")"
   ]
  },
  {
   "cell_type": "code",
   "execution_count": 45,
   "id": "b1322a25",
   "metadata": {},
   "outputs": [],
   "source": [
    "# open the budget_data.csv file and read its contents\n",
    "with open(Budget_csv, newline='') as csvfile:\n",
    "    csvreader = csv.reader(csvfile, delimiter=',')\n",
    "    csv_header = next(csvreader)\n",
    "\n",
    "    for row in csvreader:\n",
    "        budget_dict[row[0]] = row[1]\n",
    "        totMonths = len(budget_dict)"
   ]
  },
  {
   "cell_type": "code",
   "execution_count": 46,
   "id": "e87fb254",
   "metadata": {},
   "outputs": [
    {
     "name": "stdout",
     "output_type": "stream",
     "text": [
      "Financial Analysis\n",
      "----------------------------\n",
      "Total Months: 86\n",
      "Total: $22564198.0\n",
      "Average Change: $-8311.11\n",
      "Greatest Increase in Profits: Aug-16 ($1862002)\n",
      "Greatest Decrease in Profits: Feb-14 ($-1825558)\n"
     ]
    }
   ],
   "source": [
    "# loading the sum of profit/losses, average change, maximum and minimum profits\n",
    "sumpnl = sum_pnl_func(budget_dict)\n",
    "average = delta_pnl_func(budget_dict, totMonths)\n",
    "max = max_profit(delta_pnl)\n",
    "min = min_profit(delta_pnl)\n",
    "output(totMonths, sumpnl, average, max, min)\n",
    "\n",
    "for result in results:\n",
    "    print(result)"
   ]
  },
  {
   "cell_type": "code",
   "execution_count": 47,
   "id": "6ef84189",
   "metadata": {},
   "outputs": [],
   "source": [
    "# export the results to a text file\n",
    "with open(\"analysis/bank_results.txt\", \"w\") as file:\n",
    "    # iterate through the results list and write each result to the file, separated by newlines\n",
    "    for result in results:\n",
    "        file.write(result + \"\\n\")"
   ]
  }
 ],
 "metadata": {
  "kernelspec": {
   "display_name": "PythonData",
   "language": "python",
   "name": "python3"
  },
  "language_info": {
   "codemirror_mode": {
    "name": "ipython",
    "version": 3
   },
   "file_extension": ".py",
   "mimetype": "text/x-python",
   "name": "python",
   "nbconvert_exporter": "python",
   "pygments_lexer": "ipython3",
   "version": "3.7.7"
  },
  "vscode": {
   "interpreter": {
    "hash": "b6cce24653f235c72fc4508a182a4aa78cc63d76feb097baa8f9f50675ccaa3a"
   }
  }
 },
 "nbformat": 4,
 "nbformat_minor": 5
}
