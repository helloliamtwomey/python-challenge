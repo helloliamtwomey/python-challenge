{
 "cells": [
  {
   "cell_type": "code",
   "execution_count": 95,
   "id": "a9370e7a",
   "metadata": {},
   "outputs": [],
   "source": [
    "import os\n",
    "import csv"
   ]
  },
  {
   "cell_type": "code",
   "execution_count": 96,
   "id": "82447508",
   "metadata": {},
   "outputs": [],
   "source": [
    "#Import CSV file from Resource Folder\n",
    "Budget_csv = os.path.join('Resources', 'budget_data.csv')"
   ]
  },
  {
   "cell_type": "code",
   "execution_count": 97,
   "id": "870a51ae",
   "metadata": {},
   "outputs": [],
   "source": [
    "#Global dictionaries and lists\n",
    "budget_dict = {}\n",
    "delta_pnl = {}\n",
    "results = []"
   ]
  },
  {
   "cell_type": "code",
   "execution_count": 98,
   "id": "3f238922",
   "metadata": {},
   "outputs": [],
   "source": [
    "def sum_pnl_func(budget_dict):\n",
    "    sumpnl = 0\n",
    "    for key, value in budget_dict.items():\n",
    "        sumpnl += float(value)\n",
    "    return sumpnl"
   ]
  },
  {
   "cell_type": "code",
   "execution_count": 99,
   "id": "229800cb",
   "metadata": {},
   "outputs": [],
   "source": [
    "def delta_pnl_func(budget_dict, totMonths):\n",
    "    start = 1\n",
    "    total = 0\n",
    "    delta = 0\n",
    "    for key, value in budget_dict.items():\n",
    "        PNL = float(value)\n",
    "        if start == 1: \n",
    "            delta_pnl[key] = delta\n",
    "            start = 0            \n",
    "        else:\n",
    "            delta = (PNL - Last_PNL)\n",
    "            delta_pnl[key] = delta\n",
    "        Last_PNL = PNL\n",
    "    for key, value in delta_pnl.items():\n",
    "        total = total + int(value)\n",
    "    average = round(total/(totMonths-1),2)\n",
    "    return average"
   ]
  },
  {
   "cell_type": "code",
   "execution_count": 100,
   "id": "0efa22e1",
   "metadata": {},
   "outputs": [],
   "source": [
    "def max_profit(delta_pnl):\n",
    "    maxprofit = 0\n",
    "    for key, value in delta_pnl.items():\n",
    "        if int(value) > maxprofit:\n",
    "            maxprofit = int(value)\n",
    "            maxmonth = key\n",
    "    return maxmonth, maxprofit"
   ]
  },
  {
   "cell_type": "code",
   "execution_count": 101,
   "id": "42adba81",
   "metadata": {},
   "outputs": [],
   "source": [
    "def min_profit(delta_pnl):\n",
    "    minprofit = 0\n",
    "    for key, value in delta_pnl.items():\n",
    "        if int(value) < minprofit:\n",
    "            minprofit = int(float(value))\n",
    "            minmonth = key\n",
    "    return minmonth, minprofit"
   ]
  },
  {
   "cell_type": "code",
   "execution_count": 102,
   "id": "aec31465",
   "metadata": {},
   "outputs": [],
   "source": [
    "def output(totMonths, sumpnl, average, max, min):\n",
    "    results.append(\"Financial Analysis\")\n",
    "    results.append(\"----------------------------\")\n",
    "    results.append(f\"Total Months: {str(totMonths)}\")\n",
    "    results.append(f\"Total: ${str(sumpnl)}\")\n",
    "    results.append(f\"Average Change: ${str(average)}\")\n",
    "    results.append(f\"Greatest Increase in Profits: {str(max[0])} (${str(max[1])})\")\n",
    "    results.append(f\"Greatest Decrease in Profits: {str(min[0])} (${str(min[1])})\")"
   ]
  },
  {
   "cell_type": "code",
   "execution_count": 103,
   "id": "b1322a25",
   "metadata": {},
   "outputs": [],
   "source": [
    "with open(Budget_csv, newline='') as csvfile:\n",
    "    csvreader = csv.reader(csvfile, delimiter=',')\n",
    "    csv_header = next(csvreader)\n",
    "\n",
    "    for row in csvreader:\n",
    "        budget_dict[row[0]] = row[1]\n",
    "        totMonths = len(budget_dict)"
   ]
  },
  {
   "cell_type": "code",
   "execution_count": 104,
   "id": "e87fb254",
   "metadata": {},
   "outputs": [
    {
     "name": "stdout",
     "output_type": "stream",
     "text": [
      "Financial Analysis\n",
      "----------------------------\n",
      "Total Months: 86\n",
      "Total: $22564198.0\n",
      "Average Change: $-8311.11\n",
      "Greatest Increase in Profits: Aug-16 ($1862002)\n",
      "Greatest Decrease in Profits: Feb-14 ($-1825558)\n"
     ]
    }
   ],
   "source": [
    "sumpnl = sum_pnl_func(budget_dict)\n",
    "average = delta_pnl_func(budget_dict, totMonths)\n",
    "max = max_profit(delta_pnl)\n",
    "min = min_profit(delta_pnl)\n",
    "output(totMonths, sumpnl, average, max, min)\n",
    "\n",
    "for result in results:\n",
    "    print(result)"
   ]
  },
  {
   "cell_type": "code",
   "execution_count": 105,
   "id": "6ef84189",
   "metadata": {},
   "outputs": [],
   "source": [
    "# Open a new file in write mode\n",
    "with open(\"analysis/bank_results.txt\", \"w\") as file:\n",
    "    # Iterate through the results list and write each result to the file, separated by newlines\n",
    "    for result in results:\n",
    "        file.write(result + \"\\n\")"
   ]
  },
  {
   "cell_type": "code",
   "execution_count": null,
   "id": "f6175d73",
   "metadata": {},
   "outputs": [],
   "source": []
  }
 ],
 "metadata": {
  "kernelspec": {
   "display_name": "Python [conda env:PythonData] *",
   "language": "python",
   "name": "conda-env-PythonData-py"
  },
  "language_info": {
   "codemirror_mode": {
    "name": "ipython",
    "version": 3
   },
   "file_extension": ".py",
   "mimetype": "text/x-python",
   "name": "python",
   "nbconvert_exporter": "python",
   "pygments_lexer": "ipython3",
   "version": "3.7.7"
  }
 },
 "nbformat": 4,
 "nbformat_minor": 5
}
